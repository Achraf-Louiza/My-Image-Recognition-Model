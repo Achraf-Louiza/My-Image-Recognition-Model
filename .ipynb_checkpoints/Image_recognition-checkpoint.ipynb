{
 "cells": [
  {
   "cell_type": "markdown",
   "id": "22efb758",
   "metadata": {},
   "source": [
    "## <center> Image recognition </center>\n",
    "### <center> Train your own model vs Transfer learning </center>"
   ]
  },
  {
   "cell_type": "code",
   "execution_count": 106,
   "id": "688cb234",
   "metadata": {},
   "outputs": [],
   "source": [
    "import numpy as np\n",
    "from keras.datasets import cifar10\n",
    "from keras.models import Sequential, model_from_json\n",
    "from keras.layers import Dense, Flatten, Conv2D, MaxPooling2D, Dropout\n",
    "from keras.utils import to_categorical, load_img\n",
    "from keras.callbacks import TensorBoard\n",
    "from pathlib import Path"
   ]
  },
  {
   "cell_type": "markdown",
   "id": "b9ef87bb",
   "metadata": {},
   "source": [
    "### I. Loading data"
   ]
  },
  {
   "cell_type": "code",
   "execution_count": 107,
   "id": "3ae1dfed",
   "metadata": {},
   "outputs": [],
   "source": [
    "(X_train, y_train), (X_test, y_test) = cifar10.load_data()"
   ]
  },
  {
   "cell_type": "code",
   "execution_count": 108,
   "id": "d8e33e41",
   "metadata": {},
   "outputs": [
    {
     "name": "stdout",
     "output_type": "stream",
     "text": [
      "X_train shape: (50000, 32, 32, 3)\n",
      "X_test shape: (10000, 32, 32, 3)\n"
     ]
    }
   ],
   "source": [
    "print('X_train shape: {}'.format(X_train.shape))\n",
    "print('X_test shape: {}'.format(X_test.shape))"
   ]
  },
  {
   "cell_type": "markdown",
   "id": "7f72dec7",
   "metadata": {},
   "source": [
    "- CIFAR10 is 60K image split into 50K on train and 10 on test. Each image size is: 32 x 32 x 3"
   ]
  },
  {
   "cell_type": "markdown",
   "id": "8207d7b0",
   "metadata": {},
   "source": [
    "### II. Preprocessing images"
   ]
  },
  {
   "cell_type": "markdown",
   "id": "c0d9053e",
   "metadata": {},
   "source": [
    "#### 1. Normalisation"
   ]
  },
  {
   "cell_type": "markdown",
   "id": "0ec5f5b0",
   "metadata": {},
   "source": [
    "First, let's convert our data into float variables"
   ]
  },
  {
   "cell_type": "code",
   "execution_count": 109,
   "id": "4fec711b",
   "metadata": {},
   "outputs": [],
   "source": [
    "X_train = X_train.astype('float32')\n",
    "X_test = X_test.astype('float32')"
   ]
  },
  {
   "cell_type": "markdown",
   "id": "e2469079",
   "metadata": {},
   "source": [
    "Next, let's divide by 255 to normalize data between 0 & 1"
   ]
  },
  {
   "cell_type": "code",
   "execution_count": 110,
   "id": "ea2b34cf",
   "metadata": {},
   "outputs": [],
   "source": [
    "X_train /= 255\n",
    "X_test /= 255"
   ]
  },
  {
   "cell_type": "markdown",
   "id": "30a997d9",
   "metadata": {},
   "source": [
    "#### 2. Convert labels to categorical"
   ]
  },
  {
   "cell_type": "code",
   "execution_count": 111,
   "id": "c83fafc9",
   "metadata": {},
   "outputs": [],
   "source": [
    "y_train = to_categorical(y_train, num_classes = 10)\n",
    "y_test = to_categorical(y_test, num_classes = 10)"
   ]
  },
  {
   "cell_type": "markdown",
   "id": "a1b06ee0",
   "metadata": {},
   "source": [
    "### III. Trained from scratch model"
   ]
  },
  {
   "cell_type": "markdown",
   "id": "4de753d7",
   "metadata": {},
   "source": [
    "#### 1. Model creation"
   ]
  },
  {
   "cell_type": "code",
   "execution_count": 89,
   "id": "c8ee4b13",
   "metadata": {},
   "outputs": [],
   "source": [
    "model = Sequential()\n",
    "\n",
    "# First convolution block\n",
    "model.add(Conv2D(32, (3, 3), padding=\"same\", input_shape=(32, 32, 3), activation=\"relu\"))\n",
    "model.add(Conv2D(32, (3, 3), padding=\"same\", activation=\"relu\"))\n",
    "model.add(MaxPooling2D(pool_size=(2, 2)))\n",
    "model.add(Dropout(0.25))\n",
    "\n",
    "# Second convolution block\n",
    "model.add(Conv2D(32, (3, 3), padding=\"same\", activation=\"relu\"))\n",
    "model.add(Conv2D(32, (3, 3), padding=\"same\", activation=\"relu\"))\n",
    "model.add(MaxPooling2D(pool_size=(2, 2)))\n",
    "model.add(Dropout(0.25))\n",
    "\n",
    "# Flatten then dense layer\n",
    "model.add(Flatten())\n",
    "model.add(Dense(512, activation=\"relu\"))\n",
    "model.add(Dropout(0.25))\n",
    "\n",
    "# Output layer\n",
    "model.add(Dense(10, activation=\"softmax\"))\n",
    "\n",
    "# Model compilation\n",
    "model.compile(loss = 'categorical_crossentropy',\n",
    "              optimizer = 'adam',\n",
    "              metrics = ['accuracy'])\n",
    "\n",
    "# Tensorboard logging\n",
    "logger = TensorBoard(log_dir='logs', write_graph=True, histogram_freq=3)"
   ]
  },
  {
   "cell_type": "code",
   "execution_count": 90,
   "id": "ec339dfe",
   "metadata": {},
   "outputs": [
    {
     "name": "stdout",
     "output_type": "stream",
     "text": [
      "Model: \"sequential_4\"\n",
      "_________________________________________________________________\n",
      " Layer (type)                Output Shape              Param #   \n",
      "=================================================================\n",
      " conv2d_8 (Conv2D)           (None, 32, 32, 32)        896       \n",
      "                                                                 \n",
      " max_pooling2d_8 (MaxPooling  (None, 16, 16, 32)       0         \n",
      " 2D)                                                             \n",
      "                                                                 \n",
      " dropout_12 (Dropout)        (None, 16, 16, 32)        0         \n",
      "                                                                 \n",
      " conv2d_9 (Conv2D)           (None, 16, 16, 32)        9248      \n",
      "                                                                 \n",
      " max_pooling2d_9 (MaxPooling  (None, 8, 8, 32)         0         \n",
      " 2D)                                                             \n",
      "                                                                 \n",
      " dropout_13 (Dropout)        (None, 8, 8, 32)          0         \n",
      "                                                                 \n",
      " flatten_4 (Flatten)         (None, 2048)              0         \n",
      "                                                                 \n",
      " dense_8 (Dense)             (None, 512)               1049088   \n",
      "                                                                 \n",
      " dropout_14 (Dropout)        (None, 512)               0         \n",
      "                                                                 \n",
      " dense_9 (Dense)             (None, 10)                5130      \n",
      "                                                                 \n",
      "=================================================================\n",
      "Total params: 1,064,362\n",
      "Trainable params: 1,064,362\n",
      "Non-trainable params: 0\n",
      "_________________________________________________________________\n"
     ]
    }
   ],
   "source": [
    "model.summary()"
   ]
  },
  {
   "cell_type": "markdown",
   "id": "1c104d4e",
   "metadata": {},
   "source": [
    "#### 2. Training the model"
   ]
  },
  {
   "cell_type": "code",
   "execution_count": null,
   "id": "37292da6",
   "metadata": {
    "scrolled": true
   },
   "outputs": [],
   "source": [
    "model.fit(\n",
    "    X_train,\n",
    "    y_train,\n",
    "    shuffle=True,\n",
    "    batch_size=32,\n",
    "    epochs=30,\n",
    "    validation_data=(X_test, y_test),\n",
    "    callbacks=[logger]\n",
    ")"
   ]
  },
  {
   "cell_type": "markdown",
   "id": "566cc901",
   "metadata": {},
   "source": [
    "#### 3. Saving the model's structure"
   ]
  },
  {
   "cell_type": "code",
   "execution_count": null,
   "id": "a93a6879",
   "metadata": {},
   "outputs": [],
   "source": [
    "model_structure = model.to_json()\n",
    "f = Path('model_structure.json')\n",
    "f.write_text(model_structure)"
   ]
  },
  {
   "cell_type": "markdown",
   "id": "c59c6629",
   "metadata": {},
   "source": [
    "#### 4. Saving the model's weights"
   ]
  },
  {
   "cell_type": "code",
   "execution_count": null,
   "id": "3998d6e6",
   "metadata": {},
   "outputs": [],
   "source": [
    "model.save_weights('model_weights.h5')"
   ]
  },
  {
   "cell_type": "markdown",
   "id": "d4edc707",
   "metadata": {},
   "source": [
    "#### 5. Loading the model"
   ]
  },
  {
   "cell_type": "markdown",
   "id": "1d8b2eeb",
   "metadata": {},
   "source": [
    "- Loading the model's structure"
   ]
  },
  {
   "cell_type": "code",
   "execution_count": 91,
   "id": "f8745c4b",
   "metadata": {},
   "outputs": [],
   "source": [
    "p = Path('model_structure.json')\n",
    "model_structure = p.read_text()"
   ]
  },
  {
   "cell_type": "code",
   "execution_count": 93,
   "id": "fca40284",
   "metadata": {},
   "outputs": [],
   "source": [
    "model = model_from_json(model_structure)"
   ]
  },
  {
   "cell_type": "markdown",
   "id": "eb836b1c",
   "metadata": {},
   "source": [
    "- Loading the model parameters"
   ]
  },
  {
   "cell_type": "code",
   "execution_count": 98,
   "id": "c0426259",
   "metadata": {},
   "outputs": [],
   "source": [
    "model.load_weights('model_weights.h5')\n",
    "model.compile(loss='categorical_crossentropy', optimizer='adam', metrics=['accuracy'])"
   ]
  },
  {
   "attachments": {},
   "cell_type": "markdown",
   "id": "a19191e7",
   "metadata": {},
   "source": [
    "#### VI. Model evaluation"
   ]
  },
  {
   "cell_type": "code",
   "execution_count": 99,
   "id": "29adf719",
   "metadata": {},
   "outputs": [
    {
     "name": "stdout",
     "output_type": "stream",
     "text": [
      "313/313 [==============================] - 5s 5ms/step - loss: 0.7721 - accuracy: 0.7450\n"
     ]
    },
    {
     "data": {
      "text/plain": [
       "[0.7720504403114319, 0.7450000047683716]"
      ]
     },
     "execution_count": 99,
     "metadata": {},
     "output_type": "execute_result"
    }
   ],
   "source": [
    "model.evaluate(X_test, y_test)"
   ]
  },
  {
   "cell_type": "markdown",
   "id": "2656c04a",
   "metadata": {},
   "source": [
    "### V. Model prediction"
   ]
  },
  {
   "cell_type": "markdown",
   "id": "cb716c75",
   "metadata": {},
   "source": [
    "#### 1. Loading external images to test"
   ]
  },
  {
   "cell_type": "code",
   "execution_count": 100,
   "id": "7faa3bda",
   "metadata": {},
   "outputs": [],
   "source": [
    "frog = load_img(\"test_images/frog.png\", target_size=(32, 32))\n",
    "bay = load_img(\"test_images/bay.jpg\", target_size=(32, 32))\n",
    "dog = load_img(\"test_images/dog.png\", target_size=(32, 32))"
   ]
  },
  {
   "cell_type": "code",
   "execution_count": 101,
   "id": "2930a804",
   "metadata": {},
   "outputs": [],
   "source": [
    "class_labels = [\n",
    "    \"Plane\",\n",
    "    \"Car\",\n",
    "    \"Bird\",\n",
    "    \"Cat\",\n",
    "    \"Deer\",\n",
    "    \"Dog\",\n",
    "    \"Frog\",\n",
    "    \"Horse\",\n",
    "    \"Boat\",\n",
    "    \"Truck\"\n",
    "]"
   ]
  },
  {
   "cell_type": "code",
   "execution_count": 104,
   "id": "6f3bf6b1",
   "metadata": {},
   "outputs": [
    {
     "name": "stdout",
     "output_type": "stream",
     "text": [
      "1/1 [==============================] - 3s 3s/step\n",
      "['Bird', 'Plane', 'Bird']\n"
     ]
    }
   ],
   "source": [
    "pred = model.predict(np.stack([frog, bay, dog], axis=0))\n",
    "pred_classes = []\n",
    "for prob in pred:\n",
    "    most_likely = int(np.argmax(prob))\n",
    "    class_label = class_labels[most_likely]\n",
    "    pred_classes.append(class_label)\n",
    "print(pred_classes)"
   ]
  },
  {
   "cell_type": "code",
   "execution_count": null,
   "id": "9384a2b1",
   "metadata": {},
   "outputs": [],
   "source": []
  }
 ],
 "metadata": {
  "kernelspec": {
   "display_name": "Python 3 (ipykernel)",
   "language": "python",
   "name": "python3"
  },
  "language_info": {
   "codemirror_mode": {
    "name": "ipython",
    "version": 3
   },
   "file_extension": ".py",
   "mimetype": "text/x-python",
   "name": "python",
   "nbconvert_exporter": "python",
   "pygments_lexer": "ipython3",
   "version": "3.10.4"
  }
 },
 "nbformat": 4,
 "nbformat_minor": 5
}
