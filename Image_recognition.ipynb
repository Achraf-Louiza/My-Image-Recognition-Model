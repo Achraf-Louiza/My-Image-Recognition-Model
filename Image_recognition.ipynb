{
 "cells": [
  {
   "cell_type": "markdown",
   "id": "acd17999",
   "metadata": {},
   "source": [
    "## <center> Image recognition </center>\n",
    "### <center> Train your own model vs Transfer learning </center>"
   ]
  },
  {
   "cell_type": "code",
   "execution_count": 23,
   "id": "688cb234",
   "metadata": {},
   "outputs": [],
   "source": [
    "import numpy as np\n",
    "from keras.datasets import cifar10\n",
    "from keras.models import Sequential, model_from_json\n",
    "from keras.layers import Dense, Flatten, Conv2D, MaxPooling2D, Dropout\n",
    "from keras.utils import to_categorical, load_img\n",
    "from keras.callbacks import TensorBoard\n",
    "from pathlib import Path"
   ]
  },
  {
   "cell_type": "markdown",
   "id": "75c5c31f",
   "metadata": {},
   "source": [
    "### I. Loading data"
   ]
  },
  {
   "cell_type": "code",
   "execution_count": 24,
   "id": "788ae15a",
   "metadata": {},
   "outputs": [],
   "source": [
    "(X_train, y_train), (X_test, y_test) = cifar10.load_data()"
   ]
  },
  {
   "cell_type": "code",
   "execution_count": 25,
   "id": "a5650ea7",
   "metadata": {},
   "outputs": [
    {
     "name": "stdout",
     "output_type": "stream",
     "text": [
      "X_train shape: (50000, 32, 32, 3)\n",
      "X_test shape: (10000, 32, 32, 3)\n"
     ]
    }
   ],
   "source": [
    "print('X_train shape: {}'.format(X_train.shape))\n",
    "print('X_test shape: {}'.format(X_test.shape))"
   ]
  },
  {
   "cell_type": "markdown",
   "id": "9e157250",
   "metadata": {},
   "source": [
    "- CIFAR10 is 60K image split into 50K on train and 10 on test. Each image size is: 32 x 32 x 3"
   ]
  },
  {
   "cell_type": "markdown",
   "id": "8d71ffa1",
   "metadata": {},
   "source": [
    "### II. Preprocessing images"
   ]
  },
  {
   "cell_type": "markdown",
   "id": "8c7c49ea",
   "metadata": {},
   "source": [
    "#### 1. Normalisation"
   ]
  },
  {
   "cell_type": "markdown",
   "id": "da8ed038",
   "metadata": {},
   "source": [
    "First, let's convert our data into float variables"
   ]
  },
  {
   "cell_type": "code",
   "execution_count": 26,
   "id": "4d5118a6",
   "metadata": {},
   "outputs": [],
   "source": [
    "X_train = X_train.astype('float32')\n",
    "X_test = X_test.astype('float32')"
   ]
  },
  {
   "cell_type": "markdown",
   "id": "92f4bd64",
   "metadata": {},
   "source": [
    "Next, let's divide by 255 to normalize data between 0 & 1"
   ]
  },
  {
   "cell_type": "code",
   "execution_count": 27,
   "id": "8176c1af",
   "metadata": {},
   "outputs": [],
   "source": [
    "X_train /= 255\n",
    "X_test /= 255"
   ]
  },
  {
   "cell_type": "markdown",
   "id": "7c280f19",
   "metadata": {},
   "source": [
    "#### 2. Convert labels to categorical"
   ]
  },
  {
   "cell_type": "code",
   "execution_count": 28,
   "id": "14948c5c",
   "metadata": {},
   "outputs": [],
   "source": [
    "y_train = to_categorical(y_train, num_classes = 10)\n",
    "y_test = to_categorical(y_test, num_classes = 10)"
   ]
  },
  {
   "cell_type": "markdown",
   "id": "6e552ae4",
   "metadata": {},
   "source": [
    "### III. Trained from scratch model"
   ]
  },
  {
   "cell_type": "markdown",
   "id": "3389cdb8",
   "metadata": {},
   "source": [
    "#### 1. Model creation"
   ]
  },
  {
   "cell_type": "code",
   "execution_count": 30,
   "id": "b542a14c",
   "metadata": {},
   "outputs": [],
   "source": [
    "model = Sequential()\n",
    "\n",
    "# First convolution block\n",
    "model.add(Conv2D(32, (3, 3), padding=\"same\", input_shape=(32, 32, 3), activation=\"relu\"))\n",
    "model.add(Conv2D(32, (3, 3), padding=\"same\", activation=\"relu\"))\n",
    "model.add(MaxPooling2D(pool_size=(2, 2)))\n",
    "model.add(Dropout(0.25))\n",
    "\n",
    "# Second convolution block\n",
    "model.add(Conv2D(32, (3, 3), padding=\"same\", activation=\"relu\"))\n",
    "model.add(Conv2D(32, (3, 3), padding=\"same\", activation=\"relu\"))\n",
    "model.add(MaxPooling2D(pool_size=(2, 2)))\n",
    "model.add(Dropout(0.25))\n",
    "\n",
    "# Third convolution block\n",
    "model.add(Conv2D(32, (3, 3), padding=\"same\", activation=\"relu\"))\n",
    "model.add(Conv2D(32, (3, 3), padding=\"same\", activation=\"relu\"))\n",
    "model.add(MaxPooling2D(pool_size=(2, 2)))\n",
    "model.add(Dropout(0.25))\n",
    "\n",
    "# Flatten then dense layer\n",
    "model.add(Flatten())\n",
    "model.add(Dense(256, activation=\"relu\"))\n",
    "model.add(Dropout(0.3))\n",
    "# Output layer\n",
    "model.add(Dense(10, activation=\"softmax\"))\n",
    "\n",
    "# Model compilation\n",
    "model.compile(loss = 'categorical_crossentropy',\n",
    "              optimizer = 'adam',\n",
    "              metrics = ['accuracy'])\n",
    "\n",
    "# Tensorboard logging\n",
    "logger = TensorBoard(log_dir='logs/3Conv_blocks', write_graph=True, histogram_freq=3)"
   ]
  },
  {
   "cell_type": "code",
   "execution_count": 31,
   "id": "15cd5e75",
   "metadata": {},
   "outputs": [
    {
     "name": "stdout",
     "output_type": "stream",
     "text": [
      "Model: \"sequential_2\"\n",
      "_________________________________________________________________\n",
      " Layer (type)                Output Shape              Param #   \n",
      "=================================================================\n",
      " conv2d_12 (Conv2D)          (None, 32, 32, 32)        896       \n",
      "                                                                 \n",
      " conv2d_13 (Conv2D)          (None, 32, 32, 32)        9248      \n",
      "                                                                 \n",
      " max_pooling2d_6 (MaxPooling  (None, 16, 16, 32)       0         \n",
      " 2D)                                                             \n",
      "                                                                 \n",
      " dropout_8 (Dropout)         (None, 16, 16, 32)        0         \n",
      "                                                                 \n",
      " conv2d_14 (Conv2D)          (None, 16, 16, 32)        9248      \n",
      "                                                                 \n",
      " conv2d_15 (Conv2D)          (None, 16, 16, 32)        9248      \n",
      "                                                                 \n",
      " max_pooling2d_7 (MaxPooling  (None, 8, 8, 32)         0         \n",
      " 2D)                                                             \n",
      "                                                                 \n",
      " dropout_9 (Dropout)         (None, 8, 8, 32)          0         \n",
      "                                                                 \n",
      " conv2d_16 (Conv2D)          (None, 8, 8, 32)          9248      \n",
      "                                                                 \n",
      " conv2d_17 (Conv2D)          (None, 8, 8, 32)          9248      \n",
      "                                                                 \n",
      " max_pooling2d_8 (MaxPooling  (None, 4, 4, 32)         0         \n",
      " 2D)                                                             \n",
      "                                                                 \n",
      " dropout_10 (Dropout)        (None, 4, 4, 32)          0         \n",
      "                                                                 \n",
      " flatten_2 (Flatten)         (None, 512)               0         \n",
      "                                                                 \n",
      " dense_5 (Dense)             (None, 256)               131328    \n",
      "                                                                 \n",
      " dropout_11 (Dropout)        (None, 256)               0         \n",
      "                                                                 \n",
      " dense_6 (Dense)             (None, 10)                2570      \n",
      "                                                                 \n",
      "=================================================================\n",
      "Total params: 181,034\n",
      "Trainable params: 181,034\n",
      "Non-trainable params: 0\n",
      "_________________________________________________________________\n"
     ]
    }
   ],
   "source": [
    "model.summary()"
   ]
  },
  {
   "cell_type": "markdown",
   "id": "0d497fd8",
   "metadata": {},
   "source": [
    "#### 2. Training the model"
   ]
  },
  {
   "cell_type": "code",
   "execution_count": 32,
   "id": "36a6167c",
   "metadata": {
    "scrolled": true
   },
   "outputs": [
    {
     "name": "stdout",
     "output_type": "stream",
     "text": [
      "Epoch 1/30\n",
      "1563/1563 [==============================] - 41s 24ms/step - loss: 1.6862 - accuracy: 0.3730 - val_loss: 1.3368 - val_accuracy: 0.5086\n",
      "Epoch 2/30\n",
      "1563/1563 [==============================] - 40s 26ms/step - loss: 1.3113 - accuracy: 0.5258 - val_loss: 1.1875 - val_accuracy: 0.5671\n",
      "Epoch 3/30\n",
      "1563/1563 [==============================] - 42s 27ms/step - loss: 1.1673 - accuracy: 0.5820 - val_loss: 1.0401 - val_accuracy: 0.6371\n",
      "Epoch 4/30\n",
      "1563/1563 [==============================] - 41s 26ms/step - loss: 1.0709 - accuracy: 0.6189 - val_loss: 0.9487 - val_accuracy: 0.6663\n",
      "Epoch 5/30\n",
      "1563/1563 [==============================] - 45s 29ms/step - loss: 1.0093 - accuracy: 0.6409 - val_loss: 0.8926 - val_accuracy: 0.6870\n",
      "Epoch 6/30\n",
      "1563/1563 [==============================] - 49s 31ms/step - loss: 0.9640 - accuracy: 0.6590 - val_loss: 0.8352 - val_accuracy: 0.7073\n",
      "Epoch 7/30\n",
      "1563/1563 [==============================] - 44s 28ms/step - loss: 0.9208 - accuracy: 0.6737 - val_loss: 0.8316 - val_accuracy: 0.7061\n",
      "Epoch 8/30\n",
      "1563/1563 [==============================] - 44s 28ms/step - loss: 0.8986 - accuracy: 0.6803 - val_loss: 0.7951 - val_accuracy: 0.7239\n",
      "Epoch 9/30\n",
      "1563/1563 [==============================] - 49s 32ms/step - loss: 0.8695 - accuracy: 0.6916 - val_loss: 0.7771 - val_accuracy: 0.7286\n",
      "Epoch 10/30\n",
      "1563/1563 [==============================] - 57s 36ms/step - loss: 0.8510 - accuracy: 0.7001 - val_loss: 0.7665 - val_accuracy: 0.7363\n",
      "Epoch 11/30\n",
      "1563/1563 [==============================] - 63s 40ms/step - loss: 0.8317 - accuracy: 0.7067 - val_loss: 0.7948 - val_accuracy: 0.7232\n",
      "Epoch 12/30\n",
      "1563/1563 [==============================] - 67s 43ms/step - loss: 0.8225 - accuracy: 0.7098 - val_loss: 0.7652 - val_accuracy: 0.7387\n",
      "Epoch 13/30\n",
      "1563/1563 [==============================] - 58s 37ms/step - loss: 0.8048 - accuracy: 0.7175 - val_loss: 0.7438 - val_accuracy: 0.7405\n",
      "Epoch 14/30\n",
      "1563/1563 [==============================] - 51s 33ms/step - loss: 0.7945 - accuracy: 0.7185 - val_loss: 0.7340 - val_accuracy: 0.7427\n",
      "Epoch 15/30\n",
      "1563/1563 [==============================] - 50s 32ms/step - loss: 0.7790 - accuracy: 0.7258 - val_loss: 0.7314 - val_accuracy: 0.7460\n",
      "Epoch 16/30\n",
      "1563/1563 [==============================] - 51s 32ms/step - loss: 0.7820 - accuracy: 0.7267 - val_loss: 0.7220 - val_accuracy: 0.7489\n",
      "Epoch 17/30\n",
      "1563/1563 [==============================] - 52s 33ms/step - loss: 0.7615 - accuracy: 0.7331 - val_loss: 0.7043 - val_accuracy: 0.7531\n",
      "Epoch 18/30\n",
      "1563/1563 [==============================] - 48s 31ms/step - loss: 0.7555 - accuracy: 0.7345 - val_loss: 0.7524 - val_accuracy: 0.7397\n",
      "Epoch 19/30\n",
      "1563/1563 [==============================] - 48s 31ms/step - loss: 0.7447 - accuracy: 0.7371 - val_loss: 0.7050 - val_accuracy: 0.7568\n",
      "Epoch 20/30\n",
      "1563/1563 [==============================] - 51s 33ms/step - loss: 0.7398 - accuracy: 0.7414 - val_loss: 0.7002 - val_accuracy: 0.7585\n",
      "Epoch 21/30\n",
      "1563/1563 [==============================] - 51s 32ms/step - loss: 0.7397 - accuracy: 0.7391 - val_loss: 0.7346 - val_accuracy: 0.7386\n",
      "Epoch 22/30\n",
      "1563/1563 [==============================] - 49s 31ms/step - loss: 0.7302 - accuracy: 0.7418 - val_loss: 0.6936 - val_accuracy: 0.7616\n",
      "Epoch 23/30\n",
      "1563/1563 [==============================] - 46s 29ms/step - loss: 0.7240 - accuracy: 0.7462 - val_loss: 0.6887 - val_accuracy: 0.7630\n",
      "Epoch 24/30\n",
      "1563/1563 [==============================] - 47s 30ms/step - loss: 0.7191 - accuracy: 0.7485 - val_loss: 0.6825 - val_accuracy: 0.7661\n",
      "Epoch 25/30\n",
      "1563/1563 [==============================] - 47s 30ms/step - loss: 0.7101 - accuracy: 0.7513 - val_loss: 0.6975 - val_accuracy: 0.7628\n",
      "Epoch 26/30\n",
      "1563/1563 [==============================] - 47s 30ms/step - loss: 0.7053 - accuracy: 0.7516 - val_loss: 0.7040 - val_accuracy: 0.7595\n",
      "Epoch 27/30\n",
      "1563/1563 [==============================] - 50s 32ms/step - loss: 0.7097 - accuracy: 0.7521 - val_loss: 0.6646 - val_accuracy: 0.7726\n",
      "Epoch 28/30\n",
      "1563/1563 [==============================] - 53s 34ms/step - loss: 0.6987 - accuracy: 0.7562 - val_loss: 0.6798 - val_accuracy: 0.7647\n",
      "Epoch 29/30\n",
      "1563/1563 [==============================] - 50s 32ms/step - loss: 0.7006 - accuracy: 0.7525 - val_loss: 0.6869 - val_accuracy: 0.7631\n",
      "Epoch 30/30\n",
      "1563/1563 [==============================] - 46s 29ms/step - loss: 0.6967 - accuracy: 0.7566 - val_loss: 0.6620 - val_accuracy: 0.7720\n"
     ]
    },
    {
     "data": {
      "text/plain": [
       "<keras.callbacks.History at 0x1dc19e6abc0>"
      ]
     },
     "execution_count": 32,
     "metadata": {},
     "output_type": "execute_result"
    }
   ],
   "source": [
    "model.fit(\n",
    "    X_train,\n",
    "    y_train,\n",
    "    shuffle=True,\n",
    "    batch_size=32,\n",
    "    epochs=30,\n",
    "    validation_data=(X_test, y_test),\n",
    "    callbacks=[logger]\n",
    ")"
   ]
  },
  {
   "cell_type": "markdown",
   "id": "3479689e",
   "metadata": {},
   "source": [
    "#### 3. Saving the model's structure"
   ]
  },
  {
   "cell_type": "code",
   "execution_count": 33,
   "id": "18900e36",
   "metadata": {},
   "outputs": [
    {
     "data": {
      "text/plain": [
       "5872"
      ]
     },
     "execution_count": 33,
     "metadata": {},
     "output_type": "execute_result"
    }
   ],
   "source": [
    "model_structure = model.to_json()\n",
    "f = Path('model_structure.json')\n",
    "f.write_text(model_structure)"
   ]
  },
  {
   "cell_type": "markdown",
   "id": "777dc1ff",
   "metadata": {},
   "source": [
    "#### 4. Saving the model's weights"
   ]
  },
  {
   "cell_type": "code",
   "execution_count": 34,
   "id": "0572b39c",
   "metadata": {},
   "outputs": [],
   "source": [
    "model.save_weights('model_weights.h5')"
   ]
  },
  {
   "cell_type": "markdown",
   "id": "288a09cc",
   "metadata": {},
   "source": [
    "#### 5. Loading the model"
   ]
  },
  {
   "cell_type": "markdown",
   "id": "c1dedc44",
   "metadata": {},
   "source": [
    "- Loading the model's structure"
   ]
  },
  {
   "cell_type": "code",
   "execution_count": 35,
   "id": "0bef93b7",
   "metadata": {},
   "outputs": [],
   "source": [
    "p = Path('model_structure.json')\n",
    "model_structure = p.read_text()"
   ]
  },
  {
   "cell_type": "code",
   "execution_count": 36,
   "id": "15f3aa15",
   "metadata": {},
   "outputs": [],
   "source": [
    "model = model_from_json(model_structure)"
   ]
  },
  {
   "cell_type": "markdown",
   "id": "ffebfe13",
   "metadata": {},
   "source": [
    "- Loading the model parameters"
   ]
  },
  {
   "cell_type": "code",
   "execution_count": 37,
   "id": "e9a2e63c",
   "metadata": {},
   "outputs": [],
   "source": [
    "model.load_weights('model_weights.h5')\n",
    "model.compile(loss='categorical_crossentropy', optimizer='adam', metrics=['accuracy'])"
   ]
  },
  {
   "attachments": {},
   "cell_type": "markdown",
   "id": "0a368201",
   "metadata": {},
   "source": [
    "#### 6. Model evaluation"
   ]
  },
  {
   "cell_type": "code",
   "execution_count": 38,
   "id": "5c118347",
   "metadata": {},
   "outputs": [
    {
     "name": "stdout",
     "output_type": "stream",
     "text": [
      "313/313 [==============================] - 3s 9ms/step - loss: 0.6620 - accuracy: 0.7720\n"
     ]
    },
    {
     "data": {
      "text/plain": [
       "[0.662005603313446, 0.7720000147819519]"
      ]
     },
     "execution_count": 38,
     "metadata": {},
     "output_type": "execute_result"
    }
   ],
   "source": [
    "model.evaluate(X_test, y_test)"
   ]
  },
  {
   "cell_type": "markdown",
   "id": "f4f8757e",
   "metadata": {},
   "source": [
    "#### 7. Model prediction"
   ]
  },
  {
   "cell_type": "markdown",
   "id": "2116cd4c",
   "metadata": {},
   "source": [
    "- Loading external images to test"
   ]
  },
  {
   "cell_type": "code",
   "execution_count": 39,
   "id": "291e09a3",
   "metadata": {},
   "outputs": [],
   "source": [
    "frog = load_img(\"test_images/frog.png\", target_size=(32, 32))\n",
    "bay = load_img(\"test_images/bay.jpg\", target_size=(32, 32))\n",
    "dog = load_img(\"test_images/dog.png\", target_size=(32, 32))"
   ]
  },
  {
   "cell_type": "code",
   "execution_count": 40,
   "id": "d316c8a7",
   "metadata": {},
   "outputs": [],
   "source": [
    "class_labels = [\n",
    "    \"Plane\",\n",
    "    \"Car\",\n",
    "    \"Bird\",\n",
    "    \"Cat\",\n",
    "    \"Deer\",\n",
    "    \"Dog\",\n",
    "    \"Frog\",\n",
    "    \"Horse\",\n",
    "    \"Boat\",\n",
    "    \"Truck\"\n",
    "]"
   ]
  },
  {
   "cell_type": "markdown",
   "id": "cb71a3bf",
   "metadata": {},
   "source": [
    "- Predicting the 3 test image's class"
   ]
  },
  {
   "cell_type": "code",
   "execution_count": 41,
   "id": "4831b403",
   "metadata": {},
   "outputs": [
    {
     "name": "stdout",
     "output_type": "stream",
     "text": [
      "1/1 [==============================] - 0s 234ms/step\n",
      "['Frog', 'Car', 'Car']\n"
     ]
    }
   ],
   "source": [
    "pred = model.predict(np.stack([frog, bay, dog], axis=0))\n",
    "pred_classes = []\n",
    "for prob in pred:\n",
    "    most_likely = int(np.argmax(prob))\n",
    "    class_label = class_labels[most_likely]\n",
    "    pred_classes.append(class_label)\n",
    "print(pred_classes)"
   ]
  }
 ],
 "metadata": {
  "kernelspec": {
   "display_name": "Python 3 (ipykernel)",
   "language": "python",
   "name": "python3"
  },
  "language_info": {
   "codemirror_mode": {
    "name": "ipython",
    "version": 3
   },
   "file_extension": ".py",
   "mimetype": "text/x-python",
   "name": "python",
   "nbconvert_exporter": "python",
   "pygments_lexer": "ipython3",
   "version": "3.10.4"
  }
 },
 "nbformat": 4,
 "nbformat_minor": 5
}
